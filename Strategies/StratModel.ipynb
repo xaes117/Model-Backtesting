{
 "metadata": {
  "language_info": {
   "codemirror_mode": {
    "name": "ipython",
    "version": 3
   },
   "file_extension": ".py",
   "mimetype": "text/x-python",
   "name": "python",
   "nbconvert_exporter": "python",
   "pygments_lexer": "ipython3",
   "version": "3.8.8-final"
  },
  "orig_nbformat": 2,
  "kernelspec": {
   "name": "python3",
   "display_name": "Python 3.8.8 64-bit",
   "metadata": {
    "interpreter": {
     "hash": "4b87001ab79a47294335b467e4ccd88877aaeb09fc4e82f78adb33f234bb4760"
    }
   }
  }
 },
 "nbformat": 4,
 "nbformat_minor": 2,
 "cells": [
  {
   "cell_type": "code",
   "execution_count": 10,
   "metadata": {},
   "outputs": [
    {
     "output_type": "execute_result",
     "data": {
      "text/plain": [
       "          timestamp   price\n",
       "0  01/01/2010 01:00  1.4312\n",
       "1  01/01/2010 05:00  1.4312\n",
       "2  01/01/2010 09:00  1.4312\n",
       "3  01/01/2010 13:00  1.4312\n",
       "4  01/01/2010 17:00  1.4312"
      ],
      "text/html": "<div>\n<style scoped>\n    .dataframe tbody tr th:only-of-type {\n        vertical-align: middle;\n    }\n\n    .dataframe tbody tr th {\n        vertical-align: top;\n    }\n\n    .dataframe thead th {\n        text-align: right;\n    }\n</style>\n<table border=\"1\" class=\"dataframe\">\n  <thead>\n    <tr style=\"text-align: right;\">\n      <th></th>\n      <th>timestamp</th>\n      <th>price</th>\n    </tr>\n  </thead>\n  <tbody>\n    <tr>\n      <th>0</th>\n      <td>01/01/2010 01:00</td>\n      <td>1.4312</td>\n    </tr>\n    <tr>\n      <th>1</th>\n      <td>01/01/2010 05:00</td>\n      <td>1.4312</td>\n    </tr>\n    <tr>\n      <th>2</th>\n      <td>01/01/2010 09:00</td>\n      <td>1.4312</td>\n    </tr>\n    <tr>\n      <th>3</th>\n      <td>01/01/2010 13:00</td>\n      <td>1.4312</td>\n    </tr>\n    <tr>\n      <th>4</th>\n      <td>01/01/2010 17:00</td>\n      <td>1.4312</td>\n    </tr>\n  </tbody>\n</table>\n</div>"
     },
     "metadata": {},
     "execution_count": 10
    }
   ],
   "source": [
    "import pandas as pd\n",
    "import numpy as np\n",
    "\n",
    "# load data into dataframe\n",
    "gold = pd.read_csv(\"../Data/gold.csv\", sep=',')\n",
    "\n",
    "# show head of dataframe\n",
    "gold.head()"
   ]
  },
  {
   "cell_type": "code",
   "execution_count": 11,
   "metadata": {},
   "outputs": [
    {
     "output_type": "execute_result",
     "data": {
      "text/plain": [
       "              timestamp    price        rsi\n",
       "15643  31/12/2019 05:00  1.12032  82.239382\n",
       "15644  31/12/2019 09:00  1.12120  84.217016\n",
       "15645  31/12/2019 13:00  1.12308  84.138786\n",
       "15646  31/12/2019 17:00  1.12266  80.548303\n",
       "15647  31/12/2019 21:00  1.12177  72.842105"
      ],
      "text/html": "<div>\n<style scoped>\n    .dataframe tbody tr th:only-of-type {\n        vertical-align: middle;\n    }\n\n    .dataframe tbody tr th {\n        vertical-align: top;\n    }\n\n    .dataframe thead th {\n        text-align: right;\n    }\n</style>\n<table border=\"1\" class=\"dataframe\">\n  <thead>\n    <tr style=\"text-align: right;\">\n      <th></th>\n      <th>timestamp</th>\n      <th>price</th>\n      <th>rsi</th>\n    </tr>\n  </thead>\n  <tbody>\n    <tr>\n      <th>15643</th>\n      <td>31/12/2019 05:00</td>\n      <td>1.12032</td>\n      <td>82.239382</td>\n    </tr>\n    <tr>\n      <th>15644</th>\n      <td>31/12/2019 09:00</td>\n      <td>1.12120</td>\n      <td>84.217016</td>\n    </tr>\n    <tr>\n      <th>15645</th>\n      <td>31/12/2019 13:00</td>\n      <td>1.12308</td>\n      <td>84.138786</td>\n    </tr>\n    <tr>\n      <th>15646</th>\n      <td>31/12/2019 17:00</td>\n      <td>1.12266</td>\n      <td>80.548303</td>\n    </tr>\n    <tr>\n      <th>15647</th>\n      <td>31/12/2019 21:00</td>\n      <td>1.12177</td>\n      <td>72.842105</td>\n    </tr>\n  </tbody>\n</table>\n</div>"
     },
     "metadata": {},
     "execution_count": 11
    }
   ],
   "source": [
    "from rsi_strategy import RsiStrategy\n",
    "\n",
    "# calculate RSI indicator and add to dataframe\n",
    "gold['rsi'] = RsiStrategy.calc_rsi(gold['price'], 14)\n",
    "\n",
    "# show tail of dataframe \n",
    "gold.tail()"
   ]
  },
  {
   "cell_type": "code",
   "execution_count": 12,
   "metadata": {},
   "outputs": [
    {
     "output_type": "execute_result",
     "data": {
      "text/plain": [
       "              timestamp    price        rsi  rsi_delta\n",
       "15643  31/12/2019 05:00  1.12032  82.239382  -0.355351\n",
       "15644  31/12/2019 09:00  1.12120  84.217016   1.977634\n",
       "15645  31/12/2019 13:00  1.12308  84.138786  -0.078230\n",
       "15646  31/12/2019 17:00  1.12266  80.548303  -3.590483\n",
       "15647  31/12/2019 21:00  1.12177  72.842105  -7.706198"
      ],
      "text/html": "<div>\n<style scoped>\n    .dataframe tbody tr th:only-of-type {\n        vertical-align: middle;\n    }\n\n    .dataframe tbody tr th {\n        vertical-align: top;\n    }\n\n    .dataframe thead th {\n        text-align: right;\n    }\n</style>\n<table border=\"1\" class=\"dataframe\">\n  <thead>\n    <tr style=\"text-align: right;\">\n      <th></th>\n      <th>timestamp</th>\n      <th>price</th>\n      <th>rsi</th>\n      <th>rsi_delta</th>\n    </tr>\n  </thead>\n  <tbody>\n    <tr>\n      <th>15643</th>\n      <td>31/12/2019 05:00</td>\n      <td>1.12032</td>\n      <td>82.239382</td>\n      <td>-0.355351</td>\n    </tr>\n    <tr>\n      <th>15644</th>\n      <td>31/12/2019 09:00</td>\n      <td>1.12120</td>\n      <td>84.217016</td>\n      <td>1.977634</td>\n    </tr>\n    <tr>\n      <th>15645</th>\n      <td>31/12/2019 13:00</td>\n      <td>1.12308</td>\n      <td>84.138786</td>\n      <td>-0.078230</td>\n    </tr>\n    <tr>\n      <th>15646</th>\n      <td>31/12/2019 17:00</td>\n      <td>1.12266</td>\n      <td>80.548303</td>\n      <td>-3.590483</td>\n    </tr>\n    <tr>\n      <th>15647</th>\n      <td>31/12/2019 21:00</td>\n      <td>1.12177</td>\n      <td>72.842105</td>\n      <td>-7.706198</td>\n    </tr>\n  </tbody>\n</table>\n</div>"
     },
     "metadata": {},
     "execution_count": 12
    }
   ],
   "source": [
    "# calculate changes in rsi between each hour\n",
    "gold['rsi_delta'] = gold['rsi'] - gold['rsi'].shift(1)\n",
    "\n",
    "# show latest trades made\n",
    "gold.tail()"
   ]
  },
  {
   "cell_type": "code",
   "execution_count": 13,
   "metadata": {},
   "outputs": [
    {
     "output_type": "execute_result",
     "data": {
      "text/plain": [
       "            timestamp    entry position_type     exit\n",
       "604  17/11/2019 21:00  1.10517         short  1.10222\n",
       "605  25/11/2019 05:00  1.10222          long  1.10760\n",
       "606  02/12/2019 17:00  1.10760         short  1.11239\n",
       "607  19/12/2019 21:00  1.11239          long  1.10900\n",
       "608  25/12/2019 21:00  1.10900         short  1.12163"
      ],
      "text/html": "<div>\n<style scoped>\n    .dataframe tbody tr th:only-of-type {\n        vertical-align: middle;\n    }\n\n    .dataframe tbody tr th {\n        vertical-align: top;\n    }\n\n    .dataframe thead th {\n        text-align: right;\n    }\n</style>\n<table border=\"1\" class=\"dataframe\">\n  <thead>\n    <tr style=\"text-align: right;\">\n      <th></th>\n      <th>timestamp</th>\n      <th>entry</th>\n      <th>position_type</th>\n      <th>exit</th>\n    </tr>\n  </thead>\n  <tbody>\n    <tr>\n      <th>604</th>\n      <td>17/11/2019 21:00</td>\n      <td>1.10517</td>\n      <td>short</td>\n      <td>1.10222</td>\n    </tr>\n    <tr>\n      <th>605</th>\n      <td>25/11/2019 05:00</td>\n      <td>1.10222</td>\n      <td>long</td>\n      <td>1.10760</td>\n    </tr>\n    <tr>\n      <th>606</th>\n      <td>02/12/2019 17:00</td>\n      <td>1.10760</td>\n      <td>short</td>\n      <td>1.11239</td>\n    </tr>\n    <tr>\n      <th>607</th>\n      <td>19/12/2019 21:00</td>\n      <td>1.11239</td>\n      <td>long</td>\n      <td>1.10900</td>\n    </tr>\n    <tr>\n      <th>608</th>\n      <td>25/12/2019 21:00</td>\n      <td>1.10900</td>\n      <td>short</td>\n      <td>1.12163</td>\n    </tr>\n  </tbody>\n</table>\n</div>"
     },
     "metadata": {},
     "execution_count": 13
    }
   ],
   "source": [
    "# remove first 30 rows (first rows usually quite noisy)\n",
    "gold = gold.iloc[30:]\n",
    "\n",
    "# calculate trades based on rsi and price data\n",
    "df = pd.DataFrame(RsiStrategy.calc_trades(gold['timestamp'], gold['price'], gold['rsi']))\n",
    "\n",
    "# add names to columns \n",
    "df.columns = ['timestamp', 'entry', 'position_type', 'exit']\n",
    "\n",
    "# show latest trades made\n",
    "df.tail()"
   ]
  },
  {
   "cell_type": "code",
   "execution_count": 14,
   "metadata": {},
   "outputs": [
    {
     "output_type": "execute_result",
     "data": {
      "text/plain": [
       "          timestamp    entry position_type     exit    price        rsi  \\\n",
       "0  11/01/2010 17:00  1.45350         short  1.43613  1.45350  72.914439   \n",
       "1  17/01/2010 21:00  1.43613          long  1.42122  1.43613  19.166413   \n",
       "2  20/01/2010 09:00  1.42000          long  1.40290  1.42000  29.770565   \n",
       "3  27/01/2010 21:00  1.40214          long  1.38690  1.40214  26.613463   \n",
       "4  31/01/2010 21:00  1.38578          long  1.39663  1.38578  21.310202   \n",
       "\n",
       "   rsi_delta  \n",
       "0   7.411049  \n",
       "1 -17.307751  \n",
       "2   0.370178  \n",
       "3  -4.023040  \n",
       "4  -9.883968  "
      ],
      "text/html": "<div>\n<style scoped>\n    .dataframe tbody tr th:only-of-type {\n        vertical-align: middle;\n    }\n\n    .dataframe tbody tr th {\n        vertical-align: top;\n    }\n\n    .dataframe thead th {\n        text-align: right;\n    }\n</style>\n<table border=\"1\" class=\"dataframe\">\n  <thead>\n    <tr style=\"text-align: right;\">\n      <th></th>\n      <th>timestamp</th>\n      <th>entry</th>\n      <th>position_type</th>\n      <th>exit</th>\n      <th>price</th>\n      <th>rsi</th>\n      <th>rsi_delta</th>\n    </tr>\n  </thead>\n  <tbody>\n    <tr>\n      <th>0</th>\n      <td>11/01/2010 17:00</td>\n      <td>1.45350</td>\n      <td>short</td>\n      <td>1.43613</td>\n      <td>1.45350</td>\n      <td>72.914439</td>\n      <td>7.411049</td>\n    </tr>\n    <tr>\n      <th>1</th>\n      <td>17/01/2010 21:00</td>\n      <td>1.43613</td>\n      <td>long</td>\n      <td>1.42122</td>\n      <td>1.43613</td>\n      <td>19.166413</td>\n      <td>-17.307751</td>\n    </tr>\n    <tr>\n      <th>2</th>\n      <td>20/01/2010 09:00</td>\n      <td>1.42000</td>\n      <td>long</td>\n      <td>1.40290</td>\n      <td>1.42000</td>\n      <td>29.770565</td>\n      <td>0.370178</td>\n    </tr>\n    <tr>\n      <th>3</th>\n      <td>27/01/2010 21:00</td>\n      <td>1.40214</td>\n      <td>long</td>\n      <td>1.38690</td>\n      <td>1.40214</td>\n      <td>26.613463</td>\n      <td>-4.023040</td>\n    </tr>\n    <tr>\n      <th>4</th>\n      <td>31/01/2010 21:00</td>\n      <td>1.38578</td>\n      <td>long</td>\n      <td>1.39663</td>\n      <td>1.38578</td>\n      <td>21.310202</td>\n      <td>-9.883968</td>\n    </tr>\n  </tbody>\n</table>\n</div>"
     },
     "metadata": {},
     "execution_count": 14
    }
   ],
   "source": [
    "# intersect two dataframes \n",
    "df = pd.merge(df, gold, how='inner', on=['timestamp'])\n",
    "\n",
    "# remove duplicate columns\n",
    "df.drop(columns=['price'])\n",
    "\n",
    "# show head \n",
    "df.head()"
   ]
  },
  {
   "cell_type": "code",
   "execution_count": 15,
   "metadata": {},
   "outputs": [
    {
     "output_type": "execute_result",
     "data": {
      "text/plain": [
       "         Date    dxy_rsi  vix_close  us10y_rsi\n",
       "49 2010-03-18  39.285740  16.620001  58.119658\n",
       "50 2010-03-19  54.819297  16.969999  58.823529\n",
       "51 2010-03-21  45.255550  16.969999  63.926941\n",
       "52 2010-03-22  47.509629  16.870001  44.755245\n",
       "53 2010-03-23  52.097960  16.350000  50.625000"
      ],
      "text/html": "<div>\n<style scoped>\n    .dataframe tbody tr th:only-of-type {\n        vertical-align: middle;\n    }\n\n    .dataframe tbody tr th {\n        vertical-align: top;\n    }\n\n    .dataframe thead th {\n        text-align: right;\n    }\n</style>\n<table border=\"1\" class=\"dataframe\">\n  <thead>\n    <tr style=\"text-align: right;\">\n      <th></th>\n      <th>Date</th>\n      <th>dxy_rsi</th>\n      <th>vix_close</th>\n      <th>us10y_rsi</th>\n    </tr>\n  </thead>\n  <tbody>\n    <tr>\n      <th>49</th>\n      <td>2010-03-18</td>\n      <td>39.285740</td>\n      <td>16.620001</td>\n      <td>58.119658</td>\n    </tr>\n    <tr>\n      <th>50</th>\n      <td>2010-03-19</td>\n      <td>54.819297</td>\n      <td>16.969999</td>\n      <td>58.823529</td>\n    </tr>\n    <tr>\n      <th>51</th>\n      <td>2010-03-21</td>\n      <td>45.255550</td>\n      <td>16.969999</td>\n      <td>63.926941</td>\n    </tr>\n    <tr>\n      <th>52</th>\n      <td>2010-03-22</td>\n      <td>47.509629</td>\n      <td>16.870001</td>\n      <td>44.755245</td>\n    </tr>\n    <tr>\n      <th>53</th>\n      <td>2010-03-23</td>\n      <td>52.097960</td>\n      <td>16.350000</td>\n      <td>50.625000</td>\n    </tr>\n  </tbody>\n</table>\n</div>"
     },
     "metadata": {},
     "execution_count": 15
    }
   ],
   "source": [
    "# load data into dataframes\n",
    "US10Y = pd.read_csv(\"../Data/us10y.csv\", sep=',')\n",
    "vix = pd.read_csv(\"../Data/vix.csv\", sep=',')\n",
    "dollar_index = pd.read_csv(\"../Data/dxy.csv\", sep=',')\n",
    "\n",
    "# calculate rsi for DXY and remove everything else \n",
    "dollar_index['dxy_rsi'] = RsiStrategy.calc_rsi(dollar_index['Close'], 14)\n",
    "dollar_index = dollar_index.drop(['Open', 'High', 'Low', 'Close', 'Volume', 'Adj Close'], axis=1)\n",
    "\n",
    "# calculate rsi for US10Y and remove everything else \n",
    "US10Y['us10y_rsi'] = RsiStrategy.calc_rsi(US10Y['Close'], 14)\n",
    "US10Y = US10Y.drop(['Open', 'High', 'Low', 'Close', 'Volume', 'Adj Close'], axis=1)\n",
    "\n",
    "# remove everything else for the vix except from the close \n",
    "# N.B. refer to report why rsi is not calculated for vix \n",
    "vix = vix.drop(['Open', 'High', 'Low', 'Volume', 'Adj Close'], axis=1)\n",
    "vix = vix.rename(columns={\"Close\": \"vix_close\"})\n",
    "\n",
    "# convert Date columns to DateTime objects\n",
    "US10Y['Date'] = pd.to_datetime(US10Y[\"Date\"])\n",
    "vix['Date'] = pd.to_datetime(vix[\"Date\"])\n",
    "dollar_index['Date'] = pd.to_datetime(dollar_index[\"Date\"])\n",
    "\n",
    "# combine data into one dataframe\n",
    "fundamental_df = pd.merge(dollar_index, vix, how='outer', on=['Date'])\n",
    "fundamental_df = pd.merge(fundamental_df, US10Y, how='outer', on=['Date'])\n",
    "\n",
    "# forward fill NaN values\n",
    "fundamental_df = fundamental_df.fillna(method='ffill')\n",
    "\n",
    "# drop starting NaN values that will not be forward filled \n",
    "fundamental_df = fundamental_df.dropna()\n",
    "\n",
    "# show head of dataframe\n",
    "fundamental_df.head()"
   ]
  },
  {
   "cell_type": "code",
   "execution_count": 16,
   "metadata": {},
   "outputs": [
    {
     "output_type": "execute_result",
     "data": {
      "text/plain": [
       "            timestamp    entry position_type     exit    price        rsi  \\\n",
       "579  05/11/2019 17:00  1.10696          long  1.10517  1.10696  27.906977   \n",
       "580  17/11/2019 21:00  1.10517         short  1.10222  1.10517  72.284264   \n",
       "581  25/11/2019 05:00  1.10222          long  1.10760  1.10222  29.254457   \n",
       "582  02/12/2019 17:00  1.10760         short  1.11239  1.10760  72.156573   \n",
       "583  19/12/2019 21:00  1.11239          long  1.10900  1.11239  29.241877   \n",
       "\n",
       "     rsi_delta  dxy_rsi vix_close us10y_rsi  \n",
       "579  -5.895840  63.9751      13.1   44.9153  \n",
       "580   2.732982  67.0966     12.05   58.6207  \n",
       "581  -5.564274  63.7254     11.87   21.7391  \n",
       "582  15.046220  73.5629     14.91   46.5909  \n",
       "583 -16.972975  45.8332      12.5   66.5871  "
      ],
      "text/html": "<div>\n<style scoped>\n    .dataframe tbody tr th:only-of-type {\n        vertical-align: middle;\n    }\n\n    .dataframe tbody tr th {\n        vertical-align: top;\n    }\n\n    .dataframe thead th {\n        text-align: right;\n    }\n</style>\n<table border=\"1\" class=\"dataframe\">\n  <thead>\n    <tr style=\"text-align: right;\">\n      <th></th>\n      <th>timestamp</th>\n      <th>entry</th>\n      <th>position_type</th>\n      <th>exit</th>\n      <th>price</th>\n      <th>rsi</th>\n      <th>rsi_delta</th>\n      <th>dxy_rsi</th>\n      <th>vix_close</th>\n      <th>us10y_rsi</th>\n    </tr>\n  </thead>\n  <tbody>\n    <tr>\n      <th>579</th>\n      <td>05/11/2019 17:00</td>\n      <td>1.10696</td>\n      <td>long</td>\n      <td>1.10517</td>\n      <td>1.10696</td>\n      <td>27.906977</td>\n      <td>-5.895840</td>\n      <td>63.9751</td>\n      <td>13.1</td>\n      <td>44.9153</td>\n    </tr>\n    <tr>\n      <th>580</th>\n      <td>17/11/2019 21:00</td>\n      <td>1.10517</td>\n      <td>short</td>\n      <td>1.10222</td>\n      <td>1.10517</td>\n      <td>72.284264</td>\n      <td>2.732982</td>\n      <td>67.0966</td>\n      <td>12.05</td>\n      <td>58.6207</td>\n    </tr>\n    <tr>\n      <th>581</th>\n      <td>25/11/2019 05:00</td>\n      <td>1.10222</td>\n      <td>long</td>\n      <td>1.10760</td>\n      <td>1.10222</td>\n      <td>29.254457</td>\n      <td>-5.564274</td>\n      <td>63.7254</td>\n      <td>11.87</td>\n      <td>21.7391</td>\n    </tr>\n    <tr>\n      <th>582</th>\n      <td>02/12/2019 17:00</td>\n      <td>1.10760</td>\n      <td>short</td>\n      <td>1.11239</td>\n      <td>1.10760</td>\n      <td>72.156573</td>\n      <td>15.046220</td>\n      <td>73.5629</td>\n      <td>14.91</td>\n      <td>46.5909</td>\n    </tr>\n    <tr>\n      <th>583</th>\n      <td>19/12/2019 21:00</td>\n      <td>1.11239</td>\n      <td>long</td>\n      <td>1.10900</td>\n      <td>1.11239</td>\n      <td>29.241877</td>\n      <td>-16.972975</td>\n      <td>45.8332</td>\n      <td>12.5</td>\n      <td>66.5871</td>\n    </tr>\n  </tbody>\n</table>\n</div>"
     },
     "metadata": {},
     "execution_count": 16
    }
   ],
   "source": [
    "# rename column to match timestamp column name in df Dataframe \n",
    "fundamental_df =  fundamental_df.rename(columns={\"Date\": \"timestamp\"})\n",
    "\n",
    "# convert date to string \n",
    "fundamental_df['timestamp'] = fundamental_df['timestamp'].dt.strftime('%d/%m/%Y')\n",
    "\n",
    "# repeat time column 24 times and restore column names\n",
    "f_df = pd.DataFrame(np.repeat(fundamental_df.values,24,axis=0)) \n",
    "f_df.columns = fundamental_df.columns\n",
    "\n",
    "# list comprehension to brute force all possible times with dates \n",
    "new_timelist = [x + \" \" + str(counter % 24) + \":00\" if counter % 24 >= 10 else x + \" 0\" + str(counter % 24) + \":00\" for x, counter in zip(f_df['timestamp'], range(0,len(f_df['timestamp'])))]\n",
    "\n",
    "# set this as the new time column in f_df\n",
    "f_df['timestamp'] = new_timelist\n",
    "\n",
    "# attempt merge \n",
    "df = pd.merge(df, f_df, how='inner', on=['timestamp'])\n",
    "\n",
    "# show result \n",
    "df.tail()"
   ]
  },
  {
   "cell_type": "code",
   "execution_count": 17,
   "metadata": {},
   "outputs": [
    {
     "output_type": "execute_result",
     "data": {
      "text/plain": [
       "            timestamp position_type        rsi  rsi_delta  dxy_rsi vix_close  \\\n",
       "579  05/11/2019 17:00          long  27.906977  -5.895840  63.9751      13.1   \n",
       "580  17/11/2019 21:00         short  72.284264   2.732982  67.0966     12.05   \n",
       "581  25/11/2019 05:00          long  29.254457  -5.564274  63.7254     11.87   \n",
       "582  02/12/2019 17:00         short  72.156573  15.046220  73.5629     14.91   \n",
       "583  19/12/2019 21:00          long  29.241877 -16.972975  45.8332      12.5   \n",
       "\n",
       "    us10y_rsi  outcome  \n",
       "579   44.9153    False  \n",
       "580   58.6207     True  \n",
       "581   21.7391     True  \n",
       "582   46.5909    False  \n",
       "583   66.5871    False  "
      ],
      "text/html": "<div>\n<style scoped>\n    .dataframe tbody tr th:only-of-type {\n        vertical-align: middle;\n    }\n\n    .dataframe tbody tr th {\n        vertical-align: top;\n    }\n\n    .dataframe thead th {\n        text-align: right;\n    }\n</style>\n<table border=\"1\" class=\"dataframe\">\n  <thead>\n    <tr style=\"text-align: right;\">\n      <th></th>\n      <th>timestamp</th>\n      <th>position_type</th>\n      <th>rsi</th>\n      <th>rsi_delta</th>\n      <th>dxy_rsi</th>\n      <th>vix_close</th>\n      <th>us10y_rsi</th>\n      <th>outcome</th>\n    </tr>\n  </thead>\n  <tbody>\n    <tr>\n      <th>579</th>\n      <td>05/11/2019 17:00</td>\n      <td>long</td>\n      <td>27.906977</td>\n      <td>-5.895840</td>\n      <td>63.9751</td>\n      <td>13.1</td>\n      <td>44.9153</td>\n      <td>False</td>\n    </tr>\n    <tr>\n      <th>580</th>\n      <td>17/11/2019 21:00</td>\n      <td>short</td>\n      <td>72.284264</td>\n      <td>2.732982</td>\n      <td>67.0966</td>\n      <td>12.05</td>\n      <td>58.6207</td>\n      <td>True</td>\n    </tr>\n    <tr>\n      <th>581</th>\n      <td>25/11/2019 05:00</td>\n      <td>long</td>\n      <td>29.254457</td>\n      <td>-5.564274</td>\n      <td>63.7254</td>\n      <td>11.87</td>\n      <td>21.7391</td>\n      <td>True</td>\n    </tr>\n    <tr>\n      <th>582</th>\n      <td>02/12/2019 17:00</td>\n      <td>short</td>\n      <td>72.156573</td>\n      <td>15.046220</td>\n      <td>73.5629</td>\n      <td>14.91</td>\n      <td>46.5909</td>\n      <td>False</td>\n    </tr>\n    <tr>\n      <th>583</th>\n      <td>19/12/2019 21:00</td>\n      <td>long</td>\n      <td>29.241877</td>\n      <td>-16.972975</td>\n      <td>45.8332</td>\n      <td>12.5</td>\n      <td>66.5871</td>\n      <td>False</td>\n    </tr>\n  </tbody>\n</table>\n</div>"
     },
     "metadata": {},
     "execution_count": 17
    }
   ],
   "source": [
    "# create outcome column for prediction\n",
    "df['outcome'] = df['exit'] - df['entry']\n",
    "df['outcome'] = (df['outcome'] > 0) & (df['position_type'] == 'long') | (df['outcome'] < 0) & (df['position_type'] == 'short')\n",
    "\n",
    "# drop entry exit and price \n",
    "df = df.drop(columns=['entry', 'exit', 'price'], axis=1, inplace=False)\n",
    "\n",
    "# show head \n",
    "df.tail()"
   ]
  },
  {
   "cell_type": "code",
   "execution_count": 18,
   "metadata": {},
   "outputs": [],
   "source": [
    "# export dataframe to csv \n",
    "df.to_csv('training_data.csv')"
   ]
  }
 ]
}