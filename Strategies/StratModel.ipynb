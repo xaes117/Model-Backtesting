{
 "metadata": {
  "language_info": {
   "codemirror_mode": {
    "name": "ipython",
    "version": 3
   },
   "file_extension": ".py",
   "mimetype": "text/x-python",
   "name": "python",
   "nbconvert_exporter": "python",
   "pygments_lexer": "ipython3",
   "version": "3.8.6-final"
  },
  "orig_nbformat": 2,
  "kernelspec": {
   "name": "python3",
   "display_name": "Python 3.8.6 64-bit",
   "metadata": {
    "interpreter": {
     "hash": "4b87001ab79a47294335b467e4ccd88877aaeb09fc4e82f78adb33f234bb4760"
    }
   }
  }
 },
 "nbformat": 4,
 "nbformat_minor": 2,
 "cells": [
  {
   "cell_type": "code",
   "execution_count": 1,
   "metadata": {},
   "outputs": [
    {
     "output_type": "execute_result",
     "data": {
      "text/plain": [
       "          timestamp    price\n",
       "0  01/01/2010 00:00  1097.88\n",
       "1  01/01/2010 01:00  1097.88\n",
       "2  01/01/2010 02:00  1097.88\n",
       "3  01/01/2010 03:00  1097.88\n",
       "4  01/01/2010 04:00  1097.88"
      ],
      "text/html": "<div>\n<style scoped>\n    .dataframe tbody tr th:only-of-type {\n        vertical-align: middle;\n    }\n\n    .dataframe tbody tr th {\n        vertical-align: top;\n    }\n\n    .dataframe thead th {\n        text-align: right;\n    }\n</style>\n<table border=\"1\" class=\"dataframe\">\n  <thead>\n    <tr style=\"text-align: right;\">\n      <th></th>\n      <th>timestamp</th>\n      <th>price</th>\n    </tr>\n  </thead>\n  <tbody>\n    <tr>\n      <th>0</th>\n      <td>01/01/2010 00:00</td>\n      <td>1097.88</td>\n    </tr>\n    <tr>\n      <th>1</th>\n      <td>01/01/2010 01:00</td>\n      <td>1097.88</td>\n    </tr>\n    <tr>\n      <th>2</th>\n      <td>01/01/2010 02:00</td>\n      <td>1097.88</td>\n    </tr>\n    <tr>\n      <th>3</th>\n      <td>01/01/2010 03:00</td>\n      <td>1097.88</td>\n    </tr>\n    <tr>\n      <th>4</th>\n      <td>01/01/2010 04:00</td>\n      <td>1097.88</td>\n    </tr>\n  </tbody>\n</table>\n</div>"
     },
     "metadata": {},
     "execution_count": 1
    }
   ],
   "source": [
    "import pandas as pd\n",
    "import numpy as np\n",
    "\n",
    "# load data into dataframe\n",
    "gold = pd.read_csv(\"../Data/Gold-1H.csv\", sep=',')\n",
    "\n",
    "# show head of dataframe\n",
    "gold.head()"
   ]
  },
  {
   "cell_type": "code",
   "execution_count": 2,
   "metadata": {},
   "outputs": [
    {
     "output_type": "execute_result",
     "data": {
      "text/plain": [
       "              timestamp     price        rsi\n",
       "68348  01/12/2020 20:00  1813.658  84.689963\n",
       "68349  01/12/2020 21:00  1814.484  87.332911\n",
       "68350  01/12/2020 22:00  1815.660  85.965580\n",
       "68351  01/12/2020 23:00  1815.660  84.737077\n",
       "68352  02/12/2020 00:00  1811.390  73.717019"
      ],
      "text/html": "<div>\n<style scoped>\n    .dataframe tbody tr th:only-of-type {\n        vertical-align: middle;\n    }\n\n    .dataframe tbody tr th {\n        vertical-align: top;\n    }\n\n    .dataframe thead th {\n        text-align: right;\n    }\n</style>\n<table border=\"1\" class=\"dataframe\">\n  <thead>\n    <tr style=\"text-align: right;\">\n      <th></th>\n      <th>timestamp</th>\n      <th>price</th>\n      <th>rsi</th>\n    </tr>\n  </thead>\n  <tbody>\n    <tr>\n      <th>68348</th>\n      <td>01/12/2020 20:00</td>\n      <td>1813.658</td>\n      <td>84.689963</td>\n    </tr>\n    <tr>\n      <th>68349</th>\n      <td>01/12/2020 21:00</td>\n      <td>1814.484</td>\n      <td>87.332911</td>\n    </tr>\n    <tr>\n      <th>68350</th>\n      <td>01/12/2020 22:00</td>\n      <td>1815.660</td>\n      <td>85.965580</td>\n    </tr>\n    <tr>\n      <th>68351</th>\n      <td>01/12/2020 23:00</td>\n      <td>1815.660</td>\n      <td>84.737077</td>\n    </tr>\n    <tr>\n      <th>68352</th>\n      <td>02/12/2020 00:00</td>\n      <td>1811.390</td>\n      <td>73.717019</td>\n    </tr>\n  </tbody>\n</table>\n</div>"
     },
     "metadata": {},
     "execution_count": 2
    }
   ],
   "source": [
    "from rsi_strategy import RsiStrategy\n",
    "\n",
    "# calculate RSI indicator and add to dataframe\n",
    "gold['rsi'] = RsiStrategy.calc_rsi(gold['price'], 14)\n",
    "\n",
    "# show tail of dataframe \n",
    "gold.tail()"
   ]
  },
  {
   "cell_type": "code",
   "execution_count": 3,
   "metadata": {},
   "outputs": [
    {
     "output_type": "execute_result",
     "data": {
      "text/plain": [
       "              timestamp     price        rsi  rsi_delta\n",
       "68348  01/12/2020 20:00  1813.658  84.689963  -2.814399\n",
       "68349  01/12/2020 21:00  1814.484  87.332911   2.642947\n",
       "68350  01/12/2020 22:00  1815.660  85.965580  -1.367331\n",
       "68351  01/12/2020 23:00  1815.660  84.737077  -1.228503\n",
       "68352  02/12/2020 00:00  1811.390  73.717019 -11.020057"
      ],
      "text/html": "<div>\n<style scoped>\n    .dataframe tbody tr th:only-of-type {\n        vertical-align: middle;\n    }\n\n    .dataframe tbody tr th {\n        vertical-align: top;\n    }\n\n    .dataframe thead th {\n        text-align: right;\n    }\n</style>\n<table border=\"1\" class=\"dataframe\">\n  <thead>\n    <tr style=\"text-align: right;\">\n      <th></th>\n      <th>timestamp</th>\n      <th>price</th>\n      <th>rsi</th>\n      <th>rsi_delta</th>\n    </tr>\n  </thead>\n  <tbody>\n    <tr>\n      <th>68348</th>\n      <td>01/12/2020 20:00</td>\n      <td>1813.658</td>\n      <td>84.689963</td>\n      <td>-2.814399</td>\n    </tr>\n    <tr>\n      <th>68349</th>\n      <td>01/12/2020 21:00</td>\n      <td>1814.484</td>\n      <td>87.332911</td>\n      <td>2.642947</td>\n    </tr>\n    <tr>\n      <th>68350</th>\n      <td>01/12/2020 22:00</td>\n      <td>1815.660</td>\n      <td>85.965580</td>\n      <td>-1.367331</td>\n    </tr>\n    <tr>\n      <th>68351</th>\n      <td>01/12/2020 23:00</td>\n      <td>1815.660</td>\n      <td>84.737077</td>\n      <td>-1.228503</td>\n    </tr>\n    <tr>\n      <th>68352</th>\n      <td>02/12/2020 00:00</td>\n      <td>1811.390</td>\n      <td>73.717019</td>\n      <td>-11.020057</td>\n    </tr>\n  </tbody>\n</table>\n</div>"
     },
     "metadata": {},
     "execution_count": 3
    }
   ],
   "source": [
    "# calculate changes in rsi between each hour\n",
    "gold['rsi_delta'] = gold['rsi'] - gold['rsi'].shift(1)\n",
    "\n",
    "# show latest trades made\n",
    "gold.tail()"
   ]
  },
  {
   "cell_type": "code",
   "execution_count": 4,
   "metadata": {},
   "outputs": [
    {
     "output_type": "execute_result",
     "data": {
      "text/plain": [
       "             timestamp     entry position_type      exit\n",
       "2544  23/11/2020 16:00  1834.908          long  1812.912\n",
       "2545  24/11/2020 12:00  1810.393          long  1816.178\n",
       "2546  26/11/2020 09:00  1816.178         short  1778.632\n",
       "2547  27/11/2020 14:00  1778.632          long  1787.252\n",
       "2548  01/12/2020 06:00  1787.252         short  1806.661"
      ],
      "text/html": "<div>\n<style scoped>\n    .dataframe tbody tr th:only-of-type {\n        vertical-align: middle;\n    }\n\n    .dataframe tbody tr th {\n        vertical-align: top;\n    }\n\n    .dataframe thead th {\n        text-align: right;\n    }\n</style>\n<table border=\"1\" class=\"dataframe\">\n  <thead>\n    <tr style=\"text-align: right;\">\n      <th></th>\n      <th>timestamp</th>\n      <th>entry</th>\n      <th>position_type</th>\n      <th>exit</th>\n    </tr>\n  </thead>\n  <tbody>\n    <tr>\n      <th>2544</th>\n      <td>23/11/2020 16:00</td>\n      <td>1834.908</td>\n      <td>long</td>\n      <td>1812.912</td>\n    </tr>\n    <tr>\n      <th>2545</th>\n      <td>24/11/2020 12:00</td>\n      <td>1810.393</td>\n      <td>long</td>\n      <td>1816.178</td>\n    </tr>\n    <tr>\n      <th>2546</th>\n      <td>26/11/2020 09:00</td>\n      <td>1816.178</td>\n      <td>short</td>\n      <td>1778.632</td>\n    </tr>\n    <tr>\n      <th>2547</th>\n      <td>27/11/2020 14:00</td>\n      <td>1778.632</td>\n      <td>long</td>\n      <td>1787.252</td>\n    </tr>\n    <tr>\n      <th>2548</th>\n      <td>01/12/2020 06:00</td>\n      <td>1787.252</td>\n      <td>short</td>\n      <td>1806.661</td>\n    </tr>\n  </tbody>\n</table>\n</div>"
     },
     "metadata": {},
     "execution_count": 4
    }
   ],
   "source": [
    "# remove first 30 rows (first rows usually quite noisy)\n",
    "gold = gold.iloc[30:]\n",
    "\n",
    "# calculate trades based on rsi and price data\n",
    "df = pd.DataFrame(RsiStrategy.calc_trades(gold['timestamp'], gold['price'], gold['rsi']))\n",
    "\n",
    "# add names to columns \n",
    "df.columns = ['timestamp', 'entry', 'position_type', 'exit']\n",
    "\n",
    "# show latest trades made\n",
    "df.tail()"
   ]
  },
  {
   "cell_type": "code",
   "execution_count": 5,
   "metadata": {},
   "outputs": [
    {
     "output_type": "execute_result",
     "data": {
      "text/plain": [
       "          timestamp     entry position_type      exit     price        rsi  \\\n",
       "0  04/01/2010 06:00  1103.020         short  1116.310  1103.020  73.028674   \n",
       "1  04/01/2010 13:00  1114.770         short  1126.795  1114.770  80.693247   \n",
       "2  05/01/2010 08:00  1127.685         short  1139.615  1127.685  85.138451   \n",
       "3  06/01/2010 21:00  1137.825         short  1129.835  1137.825  71.933835   \n",
       "4  07/01/2010 10:00  1129.835          long  1154.100  1129.835  18.833652   \n",
       "\n",
       "   rsi_delta  \n",
       "0   2.683846  \n",
       "1  -4.080338  \n",
       "2   7.597975  \n",
       "3  -0.723051  \n",
       "4 -17.406372  "
      ],
      "text/html": "<div>\n<style scoped>\n    .dataframe tbody tr th:only-of-type {\n        vertical-align: middle;\n    }\n\n    .dataframe tbody tr th {\n        vertical-align: top;\n    }\n\n    .dataframe thead th {\n        text-align: right;\n    }\n</style>\n<table border=\"1\" class=\"dataframe\">\n  <thead>\n    <tr style=\"text-align: right;\">\n      <th></th>\n      <th>timestamp</th>\n      <th>entry</th>\n      <th>position_type</th>\n      <th>exit</th>\n      <th>price</th>\n      <th>rsi</th>\n      <th>rsi_delta</th>\n    </tr>\n  </thead>\n  <tbody>\n    <tr>\n      <th>0</th>\n      <td>04/01/2010 06:00</td>\n      <td>1103.020</td>\n      <td>short</td>\n      <td>1116.310</td>\n      <td>1103.020</td>\n      <td>73.028674</td>\n      <td>2.683846</td>\n    </tr>\n    <tr>\n      <th>1</th>\n      <td>04/01/2010 13:00</td>\n      <td>1114.770</td>\n      <td>short</td>\n      <td>1126.795</td>\n      <td>1114.770</td>\n      <td>80.693247</td>\n      <td>-4.080338</td>\n    </tr>\n    <tr>\n      <th>2</th>\n      <td>05/01/2010 08:00</td>\n      <td>1127.685</td>\n      <td>short</td>\n      <td>1139.615</td>\n      <td>1127.685</td>\n      <td>85.138451</td>\n      <td>7.597975</td>\n    </tr>\n    <tr>\n      <th>3</th>\n      <td>06/01/2010 21:00</td>\n      <td>1137.825</td>\n      <td>short</td>\n      <td>1129.835</td>\n      <td>1137.825</td>\n      <td>71.933835</td>\n      <td>-0.723051</td>\n    </tr>\n    <tr>\n      <th>4</th>\n      <td>07/01/2010 10:00</td>\n      <td>1129.835</td>\n      <td>long</td>\n      <td>1154.100</td>\n      <td>1129.835</td>\n      <td>18.833652</td>\n      <td>-17.406372</td>\n    </tr>\n  </tbody>\n</table>\n</div>"
     },
     "metadata": {},
     "execution_count": 5
    }
   ],
   "source": [
    "# intersect two dataframes \n",
    "df = pd.merge(df, gold, how='inner', on=['timestamp'])\n",
    "\n",
    "# remove duplicate columns\n",
    "df.drop(columns=['price'])\n",
    "\n",
    "# show head \n",
    "df.head()"
   ]
  },
  {
   "cell_type": "code",
   "execution_count": 6,
   "metadata": {},
   "outputs": [
    {
     "output_type": "execute_result",
     "data": {
      "text/plain": [
       "         Date    dxy_rsi  vix_close  us10y_rsi\n",
       "49 2010-03-18  39.285740  16.620001  58.119658\n",
       "50 2010-03-19  54.819297  16.969999  58.823529\n",
       "51 2010-03-21  45.255550  16.969999  63.926941\n",
       "52 2010-03-22  47.509629  16.870001  44.755245\n",
       "53 2010-03-23  52.097960  16.350000  50.625000"
      ],
      "text/html": "<div>\n<style scoped>\n    .dataframe tbody tr th:only-of-type {\n        vertical-align: middle;\n    }\n\n    .dataframe tbody tr th {\n        vertical-align: top;\n    }\n\n    .dataframe thead th {\n        text-align: right;\n    }\n</style>\n<table border=\"1\" class=\"dataframe\">\n  <thead>\n    <tr style=\"text-align: right;\">\n      <th></th>\n      <th>Date</th>\n      <th>dxy_rsi</th>\n      <th>vix_close</th>\n      <th>us10y_rsi</th>\n    </tr>\n  </thead>\n  <tbody>\n    <tr>\n      <th>49</th>\n      <td>2010-03-18</td>\n      <td>39.285740</td>\n      <td>16.620001</td>\n      <td>58.119658</td>\n    </tr>\n    <tr>\n      <th>50</th>\n      <td>2010-03-19</td>\n      <td>54.819297</td>\n      <td>16.969999</td>\n      <td>58.823529</td>\n    </tr>\n    <tr>\n      <th>51</th>\n      <td>2010-03-21</td>\n      <td>45.255550</td>\n      <td>16.969999</td>\n      <td>63.926941</td>\n    </tr>\n    <tr>\n      <th>52</th>\n      <td>2010-03-22</td>\n      <td>47.509629</td>\n      <td>16.870001</td>\n      <td>44.755245</td>\n    </tr>\n    <tr>\n      <th>53</th>\n      <td>2010-03-23</td>\n      <td>52.097960</td>\n      <td>16.350000</td>\n      <td>50.625000</td>\n    </tr>\n  </tbody>\n</table>\n</div>"
     },
     "metadata": {},
     "execution_count": 6
    }
   ],
   "source": [
    "# load data into dataframes\n",
    "US10Y = pd.read_csv(\"../Data/us10y.csv\", sep=',')\n",
    "vix = pd.read_csv(\"../Data/vix.csv\", sep=',')\n",
    "dollar_index = pd.read_csv(\"../Data/dxy.csv\", sep=',')\n",
    "\n",
    "# calculate rsi for DXY and remove everything else \n",
    "dollar_index['dxy_rsi'] = RsiStrategy.calc_rsi(dollar_index['Close'], 14)\n",
    "dollar_index = dollar_index.drop(['Open', 'High', 'Low', 'Close', 'Volume', 'Adj Close'], axis=1)\n",
    "\n",
    "# calculate rsi for US10Y and remove everything else \n",
    "US10Y['us10y_rsi'] = RsiStrategy.calc_rsi(US10Y['Close'], 14)\n",
    "US10Y = US10Y.drop(['Open', 'High', 'Low', 'Close', 'Volume', 'Adj Close'], axis=1)\n",
    "\n",
    "# remove everything else for the vix except from the close \n",
    "# N.B. refer to report why rsi is not calculated for vix \n",
    "vix = vix.drop(['Open', 'High', 'Low', 'Volume', 'Adj Close'], axis=1)\n",
    "vix = vix.rename(columns={\"Close\": \"vix_close\"})\n",
    "\n",
    "# convert Date columns to DateTime objects\n",
    "US10Y['Date'] = pd.to_datetime(US10Y[\"Date\"])\n",
    "vix['Date'] = pd.to_datetime(vix[\"Date\"])\n",
    "dollar_index['Date'] = pd.to_datetime(dollar_index[\"Date\"])\n",
    "\n",
    "# combine data into one dataframe\n",
    "fundamental_df = pd.merge(dollar_index, vix, how='outer', on=['Date'])\n",
    "fundamental_df = pd.merge(fundamental_df, US10Y, how='outer', on=['Date'])\n",
    "\n",
    "# forward fill NaN values\n",
    "fundamental_df = fundamental_df.fillna(method='ffill')\n",
    "\n",
    "# drop starting NaN values that will not be forward filled \n",
    "fundamental_df = fundamental_df.dropna()\n",
    "\n",
    "# show head of dataframe\n",
    "fundamental_df.head()"
   ]
  },
  {
   "cell_type": "code",
   "execution_count": 7,
   "metadata": {},
   "outputs": [
    {
     "output_type": "execute_result",
     "data": {
      "text/plain": [
       "             timestamp     entry position_type      exit     price        rsi  \\\n",
       "2428  23/11/2020 11:00  1865.664          long  1841.614  1865.664  28.276438   \n",
       "2429  23/11/2020 16:00  1834.908          long  1812.912  1834.908   9.795285   \n",
       "2430  24/11/2020 12:00  1810.393          long  1816.178  1810.393  18.110218   \n",
       "2431  27/11/2020 14:00  1778.632          long  1787.252  1778.632  16.482364   \n",
       "2432  01/12/2020 06:00  1787.252         short  1806.661  1787.252  71.834762   \n",
       "\n",
       "      rsi_delta  dxy_rsi vix_close us10y_rsi  \n",
       "2428  -5.165120  42.2679     22.66    15.534  \n",
       "2429  -1.581917  42.2679     22.66    15.534  \n",
       "2430  -4.898590  32.7999     21.64   24.6753  \n",
       "2431 -22.680582  26.5305     20.84    19.457  \n",
       "2432  12.636054  6.84915     20.77   57.8704  "
      ],
      "text/html": "<div>\n<style scoped>\n    .dataframe tbody tr th:only-of-type {\n        vertical-align: middle;\n    }\n\n    .dataframe tbody tr th {\n        vertical-align: top;\n    }\n\n    .dataframe thead th {\n        text-align: right;\n    }\n</style>\n<table border=\"1\" class=\"dataframe\">\n  <thead>\n    <tr style=\"text-align: right;\">\n      <th></th>\n      <th>timestamp</th>\n      <th>entry</th>\n      <th>position_type</th>\n      <th>exit</th>\n      <th>price</th>\n      <th>rsi</th>\n      <th>rsi_delta</th>\n      <th>dxy_rsi</th>\n      <th>vix_close</th>\n      <th>us10y_rsi</th>\n    </tr>\n  </thead>\n  <tbody>\n    <tr>\n      <th>2428</th>\n      <td>23/11/2020 11:00</td>\n      <td>1865.664</td>\n      <td>long</td>\n      <td>1841.614</td>\n      <td>1865.664</td>\n      <td>28.276438</td>\n      <td>-5.165120</td>\n      <td>42.2679</td>\n      <td>22.66</td>\n      <td>15.534</td>\n    </tr>\n    <tr>\n      <th>2429</th>\n      <td>23/11/2020 16:00</td>\n      <td>1834.908</td>\n      <td>long</td>\n      <td>1812.912</td>\n      <td>1834.908</td>\n      <td>9.795285</td>\n      <td>-1.581917</td>\n      <td>42.2679</td>\n      <td>22.66</td>\n      <td>15.534</td>\n    </tr>\n    <tr>\n      <th>2430</th>\n      <td>24/11/2020 12:00</td>\n      <td>1810.393</td>\n      <td>long</td>\n      <td>1816.178</td>\n      <td>1810.393</td>\n      <td>18.110218</td>\n      <td>-4.898590</td>\n      <td>32.7999</td>\n      <td>21.64</td>\n      <td>24.6753</td>\n    </tr>\n    <tr>\n      <th>2431</th>\n      <td>27/11/2020 14:00</td>\n      <td>1778.632</td>\n      <td>long</td>\n      <td>1787.252</td>\n      <td>1778.632</td>\n      <td>16.482364</td>\n      <td>-22.680582</td>\n      <td>26.5305</td>\n      <td>20.84</td>\n      <td>19.457</td>\n    </tr>\n    <tr>\n      <th>2432</th>\n      <td>01/12/2020 06:00</td>\n      <td>1787.252</td>\n      <td>short</td>\n      <td>1806.661</td>\n      <td>1787.252</td>\n      <td>71.834762</td>\n      <td>12.636054</td>\n      <td>6.84915</td>\n      <td>20.77</td>\n      <td>57.8704</td>\n    </tr>\n  </tbody>\n</table>\n</div>"
     },
     "metadata": {},
     "execution_count": 7
    }
   ],
   "source": [
    "# rename column to match timestamp column name in df Dataframe \n",
    "fundamental_df =  fundamental_df.rename(columns={\"Date\": \"timestamp\"})\n",
    "\n",
    "# convert date to string \n",
    "fundamental_df['timestamp'] = fundamental_df['timestamp'].dt.strftime('%d/%m/%Y')\n",
    "\n",
    "# repeat time column 24 times and restore column names\n",
    "f_df = pd.DataFrame(np.repeat(fundamental_df.values,24,axis=0)) \n",
    "f_df.columns = fundamental_df.columns\n",
    "\n",
    "# list comprehension to brute force all possible times with dates \n",
    "new_timelist = [x + \" \" + str(counter % 24) + \":00\" if counter % 24 >= 10 else x + \" 0\" + str(counter % 24) + \":00\" for x, counter in zip(f_df['timestamp'], range(0,len(f_df['timestamp'])))]\n",
    "\n",
    "# set this as the new time column in f_df\n",
    "f_df['timestamp'] = new_timelist\n",
    "\n",
    "# attempt merge \n",
    "df = pd.merge(df, f_df, how='inner', on=['timestamp'])\n",
    "\n",
    "# show result \n",
    "df.tail()"
   ]
  },
  {
   "cell_type": "code",
   "execution_count": 8,
   "metadata": {},
   "outputs": [
    {
     "output_type": "execute_result",
     "data": {
      "text/plain": [
       "             timestamp position_type        rsi  rsi_delta  dxy_rsi vix_close  \\\n",
       "2428  23/11/2020 11:00          long  28.276438  -5.165120  42.2679     22.66   \n",
       "2429  23/11/2020 16:00          long   9.795285  -1.581917  42.2679     22.66   \n",
       "2430  24/11/2020 12:00          long  18.110218  -4.898590  32.7999     21.64   \n",
       "2431  27/11/2020 14:00          long  16.482364 -22.680582  26.5305     20.84   \n",
       "2432  01/12/2020 06:00         short  71.834762  12.636054  6.84915     20.77   \n",
       "\n",
       "     us10y_rsi  outcome  \n",
       "2428    15.534    False  \n",
       "2429    15.534    False  \n",
       "2430   24.6753     True  \n",
       "2431    19.457     True  \n",
       "2432   57.8704    False  "
      ],
      "text/html": "<div>\n<style scoped>\n    .dataframe tbody tr th:only-of-type {\n        vertical-align: middle;\n    }\n\n    .dataframe tbody tr th {\n        vertical-align: top;\n    }\n\n    .dataframe thead th {\n        text-align: right;\n    }\n</style>\n<table border=\"1\" class=\"dataframe\">\n  <thead>\n    <tr style=\"text-align: right;\">\n      <th></th>\n      <th>timestamp</th>\n      <th>position_type</th>\n      <th>rsi</th>\n      <th>rsi_delta</th>\n      <th>dxy_rsi</th>\n      <th>vix_close</th>\n      <th>us10y_rsi</th>\n      <th>outcome</th>\n    </tr>\n  </thead>\n  <tbody>\n    <tr>\n      <th>2428</th>\n      <td>23/11/2020 11:00</td>\n      <td>long</td>\n      <td>28.276438</td>\n      <td>-5.165120</td>\n      <td>42.2679</td>\n      <td>22.66</td>\n      <td>15.534</td>\n      <td>False</td>\n    </tr>\n    <tr>\n      <th>2429</th>\n      <td>23/11/2020 16:00</td>\n      <td>long</td>\n      <td>9.795285</td>\n      <td>-1.581917</td>\n      <td>42.2679</td>\n      <td>22.66</td>\n      <td>15.534</td>\n      <td>False</td>\n    </tr>\n    <tr>\n      <th>2430</th>\n      <td>24/11/2020 12:00</td>\n      <td>long</td>\n      <td>18.110218</td>\n      <td>-4.898590</td>\n      <td>32.7999</td>\n      <td>21.64</td>\n      <td>24.6753</td>\n      <td>True</td>\n    </tr>\n    <tr>\n      <th>2431</th>\n      <td>27/11/2020 14:00</td>\n      <td>long</td>\n      <td>16.482364</td>\n      <td>-22.680582</td>\n      <td>26.5305</td>\n      <td>20.84</td>\n      <td>19.457</td>\n      <td>True</td>\n    </tr>\n    <tr>\n      <th>2432</th>\n      <td>01/12/2020 06:00</td>\n      <td>short</td>\n      <td>71.834762</td>\n      <td>12.636054</td>\n      <td>6.84915</td>\n      <td>20.77</td>\n      <td>57.8704</td>\n      <td>False</td>\n    </tr>\n  </tbody>\n</table>\n</div>"
     },
     "metadata": {},
     "execution_count": 8
    }
   ],
   "source": [
    "# create outcome column for prediction\n",
    "df['outcome'] = df['exit'] - df['entry']\n",
    "df['outcome'] = (df['outcome'] > 0) & (df['position_type'] == 'long') | (df['outcome'] < 0) & (df['position_type'] == 'short')\n",
    "\n",
    "# drop entry exit and price \n",
    "df = df.drop(columns=['entry', 'exit', 'price'], axis=1, inplace=False)\n",
    "\n",
    "# show head \n",
    "df.tail()"
   ]
  },
  {
   "cell_type": "code",
   "execution_count": 9,
   "metadata": {},
   "outputs": [],
   "source": [
    "# export dataframe to csv \n",
    "df.to_csv('training_data.csv')"
   ]
  }
 ]
}